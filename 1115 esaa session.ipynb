{
 "cells": [
  {
   "cell_type": "markdown",
   "metadata": {
    "id": "lYWK3uHVVqbm"
   },
   "source": [
    "# SVM 연습문제 (핸즈온 Ch.5)"
   ]
  },
  {
   "cell_type": "markdown",
   "metadata": {
    "id": "CjaYSVJyWEcc"
   },
   "source": [
    "**2. 서포트 벡터가 무엇인가요?**"
   ]
  },
  {
   "cell_type": "markdown",
   "metadata": {
    "id": "q7aP2nkfXAq5"
   },
   "source": [
    "**답** : SVM이 훈련된 후 경계를 포함해 도로에 놓인 샘플, 결정 경계를 정하는 유일한 샘플"
   ]
  },
  {
   "cell_type": "markdown",
   "metadata": {
    "id": "l-8URMsSF5-a"
   },
   "source": [
    "**3. SVM을 사용할 때 입력값의 스케일이 왜 중요한가요?**"
   ]
  },
  {
   "cell_type": "markdown",
   "metadata": {
    "id": "uW2v-wnOF8UW"
   },
   "source": [
    "**답** : 스케일이 맞아야 모든 특성을 고려해 가장 큰 마진의 결정경계를 만들 수 있으므로 (스케일이 맞지 않으면 작은 특성들을 무시하는 경향이 있음)\n",
    "\n"
   ]
  },
  {
   "cell_type": "markdown",
   "metadata": {
    "id": "TfRaWu4dXDsf"
   },
   "source": [
    "**8. 선형적으로 분리되는 데이터셋에 LinearSVC를 훈련시켜보세요. 그런 다음 같은 데이터셋에 SVC와 SGDClassifier를 적용해보세요. 거의 비슷한 모델이 만들어지는지 확인해보세요.**"
   ]
  },
  {
   "cell_type": "code",
   "execution_count": 20,
   "metadata": {
    "id": "yj2Fd6v7XJpv"
   },
   "outputs": [],
   "source": [
    "from sklearn import datasets\n",
    "import numpy as np\n",
    "from sklearn.svm import LinearSVC, SVC\n",
    "from sklearn.linear_model import SGDClassifier\n",
    "from sklearn.preprocessing import StandardScaler\n",
    "import matplotlib.pyplot as plt\n",
    "import warnings\n",
    "warnings.filterwarnings('ignore')"
   ]
  },
  {
   "cell_type": "code",
   "execution_count": 21,
   "metadata": {},
   "outputs": [],
   "source": [
    "iris = datasets.load_iris()"
   ]
  },
  {
   "cell_type": "code",
   "execution_count": 22,
   "metadata": {
    "id": "Fwz70i3mBV-9"
   },
   "outputs": [],
   "source": [
    "# iris data를 로드하고 x,y를 지정해줍니다.\n",
    "#(힌트: 핸즈온 머신러닝 교재 208쪽 참고)\n",
    "\n",
    "\n",
    "X = iris['data'][:,(2,3)]\n",
    "y = iris['target']\n",
    "\n",
    "setosa_or_versicolor = (y==0) | (y == 1)\n",
    "X = X[setosa_or_versicolor]\n",
    "y = y[setosa_or_versicolor]"
   ]
  },
  {
   "cell_type": "code",
   "execution_count": 23,
   "metadata": {
    "id": "3_FHdGvaEE2Q"
   },
   "outputs": [],
   "source": [
    "C = 5 \n",
    "alpha = 1 / (C * len(X))\n"
   ]
  },
  {
   "cell_type": "code",
   "execution_count": 24,
   "metadata": {
    "id": "aupH_y9REIv5"
   },
   "outputs": [
    {
     "name": "stdout",
     "output_type": "stream",
     "text": [
      "LinearSVC : [0.28475098] [[1.05364854 1.09903804]]\n",
      "SVC : [0.31896852] [[1.1203284  1.02625193]]\n",
      "SGDClassifier : [0.117] [[0.77714169 0.72981762]]\n"
     ]
    }
   ],
   "source": [
    "# LinearSVC 학습하기\n",
    "\n",
    "lin_svc = LinearSVC(loss='hinge',C=C,random_state=42)\n",
    "svc = SVC(kernel='linear',C=C)\n",
    "sgd_clf = SGDClassifier(loss='hinge', learning_rate = 'constant', eta0=0.001, tol=1e-3,alpha=alpha,\n",
    "                       max_iter=100000, random_state=42)\n",
    "\n",
    "# 위를 이용하여 데이터 스케일링 후 LinearSVC,SVC,SGDClassifier 구하기\n",
    "\n",
    "scaler = StandardScaler()\n",
    "X_scaled = scaler.fit_transform(X)\n",
    "\n",
    "lin_svc.fit(X_scaled,y)\n",
    "svc.fit(X_scaled,y)\n",
    "sgd_clf.fit(X_scaled,y)\n",
    "\n",
    "print('LinearSVC :',lin_svc.intercept_,lin_svc.coef_)\n",
    "print('SVC :',svc.intercept_,svc.coef_)\n",
    "print('SGDClassifier :',sgd_clf.intercept_,sgd_clf.coef_)"
   ]
  },
  {
   "cell_type": "code",
   "execution_count": 25,
   "metadata": {
    "id": "8tTbQTEpBWIC"
   },
   "outputs": [
    {
     "data": {
      "image/png": "[encoded data removed]",
      "text/plain": [
       "<Figure size 792x288 with 1 Axes>"
      ]
     },
     "metadata": {
      "needs_background": "light"
     },
     "output_type": "display_data"
    }
   ],
   "source": [
    "# 세 개 모델의 결정 경계를 그리기\n",
    "# 먼저 결정 결제들의 기울기(W)와 편향(b)을 구함\n",
    "\n",
    "w1 = -lin_svc.coef_[0,0] / lin_svc.coef_[0,1]\n",
    "b1 = -lin_svc.intercept_[0] / lin_svc.coef_[0,1]\n",
    "w2 = -svc.coef_[0, 0]/svc.coef_[0, 1]\n",
    "b2 = -svc.intercept_[0]/svc.coef_[0, 1]\n",
    "w3 = -sgd_clf.coef_[0, 0]/sgd_clf.coef_[0, 1]\n",
    "b3 = -sgd_clf.intercept_[0]/sgd_clf.coef_[0, 1]\n",
    "\n",
    "# 결정 결계를 원본 스케일로 변환하기\n",
    "\n",
    "line1 = scaler.inverse_transform([[-10,-10*w1+b1],[10,10*w1+b1]])\n",
    "line2 = scaler.inverse_transform([[-10,-10*w2+b2],[10,10*w2+b2]])\n",
    "line3 = scaler.inverse_transform([[-10,-10*w3+b3],[10,10*w3+b3]])\n",
    "\n",
    "# 세 개의 결정 경계를 모두 그리기\n",
    "\n",
    "plt.figure(figsize=(11,4))\n",
    "plt.plot(line1[:,0], line1[:,1], \"k:\",label=\"LinearSVC\")\n",
    "plt.plot(line2[:,0],line2[:,1],\"b--\",linewidth=2,label=\"SVC\")\n",
    "plt.plot(line3[:,0],line3[:,1],'r-',label=\"SGDClassifier\")\n",
    "\n",
    "plt.plot(X[:,0][y==1],X[:,1][y==1], 'bs')\n",
    "plt.plot(X[:,0][y==0],X[:,1][y==0],'yo')\n",
    "\n",
    "plt.xlabel(\"length\")\n",
    "plt.ylabel(\"width\")\n",
    "plt.legend(loc='upper center')\n",
    "plt.axis([0,5.5,0,2])\n",
    "plt.show()\n",
    "\n",
    "# 아주 비슷한 결정 경계를 보인다. "
   ]
  },
  {
   "cell_type": "code",
   "execution_count": 26,
   "metadata": {
    "id": "ZNG84j53Dm6J"
   },
   "outputs": [],
   "source": [
    "# 너무 어려울 경우 https://leechamin.tistory.com/83 참고 "
   ]
  },
  {
   "cell_type": "code",
   "execution_count": null,
   "metadata": {
    "id": "H9xWFRiYDmxo"
   },
   "outputs": [],
   "source": []
  }
 ],
 "metadata": {
  "colab": {
   "collapsed_sections": [],
   "name": "SVM 연습문제",
   "provenance": []
  },
  "kernelspec": {
   "display_name": "Python 3",
   "language": "python",
   "name": "python3"
  },
  "language_info": {
   "codemirror_mode": {
    "name": "ipython",
    "version": 3
   },
   "file_extension": ".py",
   "mimetype": "text/x-python",
   "name": "python",
   "nbconvert_exporter": "python",
   "pygments_lexer": "ipython3",
   "version": "3.8.5"
  },
  "vp": {
   "base_numbering": 1,
   "nav_menu": {},
   "number_sections": true,
   "sideBar": true,
   "title_cell": "VisualPython",
   "title_sidebar": "VisualPython",
   "vpPosition": {
    "height": "calc(100% - 180px)",
    "right": "10px",
    "top": "110px",
    "width": "50%"
   },
   "vp_cell": false,
   "vp_section_display": true,
   "vp_window_display": false
  }
 },
 "nbformat": 4,
 "nbformat_minor": 1
}
