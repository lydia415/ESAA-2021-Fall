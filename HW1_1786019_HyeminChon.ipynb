{
  "nbformat": 4,
  "nbformat_minor": 0,
  "metadata": {
    "colab": {
      "name": "HW1_1786019_HyeminChon.ipynb",
      "provenance": [],
      "collapsed_sections": [],
      "include_colab_link": true
    },
    "kernelspec": {
      "display_name": "Python 3",
      "language": "python",
      "name": "python3"
    },
    "language_info": {
      "codemirror_mode": {
        "name": "ipython",
        "version": 3
      },
      "file_extension": ".py",
      "mimetype": "text/x-python",
      "name": "python",
      "nbconvert_exporter": "python",
      "pygments_lexer": "ipython3",
      "version": "3.8.5"
    },
    "vp": {
      "base_numbering": 1,
      "nav_menu": {},
      "number_sections": true,
      "sideBar": true,
      "title_cell": "VisualPython",
      "title_sidebar": "VisualPython",
      "vpPosition": {
        "height": "calc(100% - 180px)",
        "right": "10px",
        "top": "110px",
        "width": "50%"
      },
      "vp_cell": false,
      "vp_section_display": true,
      "vp_window_display": false
    }
  },
  "cells": [
    {
      "cell_type": "markdown",
      "metadata": {
        "id": "view-in-github",
        "colab_type": "text"
      },
      "source": [
        "<a href=\"https://colab.research.google.com/github/lydia415/lydia4152/blob/main/HW1_1786019_HyeminChon.ipynb\" target=\"_parent\"><img src=\"https://colab.research.google.com/assets/colab-badge.svg\" alt=\"Open In Colab\"/></a>"
      ]
    },
    {
      "cell_type": "markdown",
      "metadata": {
        "id": "L9-urfdwk85N"
      },
      "source": [
        "# HW I"
      ]
    },
    {
      "cell_type": "markdown",
      "metadata": {
        "id": "Ou3LkqVYvOmO"
      },
      "source": [
        "### 1786019 전혜민"
      ]
    },
    {
      "cell_type": "markdown",
      "metadata": {
        "id": "q3OMfh3dvOmP"
      },
      "source": [
        "---"
      ]
    },
    {
      "cell_type": "markdown",
      "metadata": {
        "id": "q6MOcUbHvOmP"
      },
      "source": [
        "## 1> Write a Python program to replace the last element in a list with another list."
      ]
    },
    {
      "cell_type": "markdown",
      "metadata": {
        "id": "rM0xYUWZkYdG"
      },
      "source": [
        "<font color='green'> Sample data : [1, 3, 5, 7, 9, 10], [2, 4, 6, 8]\n",
        "    \n",
        "<font color='green'> Expected Output=[1, 3, 5, 7, 9, 2, 4, 6, 8]\n",
        "</font>"
      ]
    },
    {
      "cell_type": "markdown",
      "metadata": {
        "id": "rb-BCmJrlFBt"
      },
      "source": [
        "[Video Solution](https://youtu.be/gqOUYiGm_EM)\n",
        "\n",
        "```\n",
        "a1=[1, 3, 5, 7, 9, 10]\n",
        "b1=[2, 4, 6, 8]\n",
        "```\n",
        "라고 정하고 리스트 a1의 단일한 마지막 인덱스 값에 리스트 b1를 지정하면"
      ]
    },
    {
      "cell_type": "code",
      "metadata": {
        "id": "T2H0vWgWvOmS",
        "outputId": "a1581dc2-780d-4da0-ead8-8d3904d2cd40"
      },
      "source": [
        "a1=[1, 3, 5, 7, 9, 10]\n",
        "b1=[2, 4, 6, 8]\n",
        "a1[5]=b1\n",
        "a1"
      ],
      "execution_count": null,
      "outputs": [
        {
          "data": {
            "text/plain": [
              "[1, 3, 5, 7, 9, [2, 4, 6, 8]]"
            ]
          },
          "execution_count": 129,
          "metadata": {},
          "output_type": "execute_result"
        }
      ]
    },
    {
      "cell_type": "markdown",
      "metadata": {
        "id": "vPXIBtGYlQK8"
      },
      "source": [
        "리스트 a1 내에 리스트 b1이 포함되어버린다.<br/>하나의 리스트로 이어지게 합치려면 slicing을 통해 이어주어야 한다."
      ]
    },
    {
      "cell_type": "markdown",
      "metadata": {
        "id": "s_h5lYaMvOmW"
      },
      "source": [
        "# <font color='red'><**Answer 1**></font>"
      ]
    },
    {
      "cell_type": "code",
      "metadata": {
        "colab": {
          "base_uri": "https://localhost:8080/"
        },
        "id": "GopWDT5Xkat_",
        "scrolled": true,
        "outputId": "36095eb1-9548-4680-96af-feb0381ffc7a"
      },
      "source": [
        "a1=[1, 3, 5, 7, 9, 10]\n",
        "b1=[2, 4, 6, 8]\n",
        "\n",
        "a1[5:6]=b1\n",
        "a1"
      ],
      "execution_count": null,
      "outputs": [
        {
          "data": {
            "text/plain": [
              "[1, 3, 5, 7, 9, 2, 4, 6, 8]"
            ]
          },
          "execution_count": 130,
          "metadata": {},
          "output_type": "execute_result"
        }
      ]
    },
    {
      "cell_type": "markdown",
      "metadata": {
        "id": "ZOFyf0xdvOmX"
      },
      "source": [
        "<font color='red'>\n",
        "같은 마지막 위치이지만 slicing을 사용하니 a1과 b1이 하나의 리스트로 잘 이어졌음을 확인할 수 있다.\n",
        "</font>"
      ]
    },
    {
      "cell_type": "markdown",
      "metadata": {
        "id": "rPPjXHQ-vOmX"
      },
      "source": [
        "-----------"
      ]
    },
    {
      "cell_type": "markdown",
      "metadata": {
        "id": "D8-elrJ_vOmY"
      },
      "source": [
        "\n",
        "## 2> Write a Python script to generate and print a dictionary that contains a number (between 1 and n) in the form (x, x*x)."
      ]
    },
    {
      "cell_type": "markdown",
      "metadata": {
        "id": "4N7jVuZflZaD"
      },
      "source": [
        "<font color='green'> Sample Dictionary ( n = 5) :\n",
        "    \n",
        "<font color='green'> Expected Output : {1: 1, 2: 4, 3: 9, 4: 16, 5: 25}\n",
        "</font>"
      ]
    },
    {
      "cell_type": "markdown",
      "metadata": {
        "id": "NahwxT61kdOC"
      },
      "source": [
        "[Video Solution](https://youtu.be/gqOUYiGm_EM)\n",
        "\n",
        "```\n",
        "dic2={}\n",
        "```\n",
        "라고 빈 딕셔너리를 생성한 후에 1~5를 제곱해서 dic2에 추가하는 Loop을 만들면 된다."
      ]
    },
    {
      "cell_type": "markdown",
      "metadata": {
        "id": "Hu1MSaWUvOma"
      },
      "source": [
        "# <font color='red'><**Answer 2**></font>"
      ]
    },
    {
      "cell_type": "code",
      "metadata": {
        "id": "TFyKQXWpkk8Y",
        "outputId": "e3e901a8-0b9c-406f-ac3f-e69c34671a27"
      },
      "source": [
        "dic2={}\n",
        "for i in range(5):\n",
        "    dic2[i+1] = (i+1)**2     # 0부터 시작이라 + 1해서 Key, Value 저장\n",
        "print(dic2)"
      ],
      "execution_count": null,
      "outputs": [
        {
          "name": "stdout",
          "output_type": "stream",
          "text": [
            "{1: 1, 2: 4, 3: 9, 4: 16, 5: 25}\n"
          ]
        }
      ]
    },
    {
      "cell_type": "markdown",
      "metadata": {
        "id": "ERVu-_lGvOmc"
      },
      "source": [
        "\n",
        "<font color='red'> for 문에 range(5)를 두어 0부터 차례로 대입하게 두었고, range가 0부터 시작하는 것을 주의하여 1을 더한 값이 제곱 계산에 대입되도록 하였다.<br/>\n",
        "   \n",
        "<font color='red'> 빈 딕셔너리에 대입값을 key값으로, 대입 결과를 value값으로 등록하도록 식을 세운 후 출력하였다.\n",
        "</font>\n"
      ]
    },
    {
      "cell_type": "markdown",
      "metadata": {
        "id": "Rn81tmRQvOmc"
      },
      "source": [
        "-----------"
      ]
    },
    {
      "cell_type": "markdown",
      "metadata": {
        "id": "Ioa13o5_vOmd"
      },
      "source": [
        "## 3> Write a Python program to print the even numbers from a given list."
      ]
    },
    {
      "cell_type": "markdown",
      "metadata": {
        "id": "g4bM3P7UvOmd"
      },
      "source": [
        "<font color='green'>Sample List : [1, 2, 3, 4, 5, 6, 7, 8, 9]\n",
        "    \n",
        "<font color='green'>Expected Result : [2, 4, 6, 8]\n",
        "</font>"
      ]
    },
    {
      "cell_type": "markdown",
      "metadata": {
        "id": "EHFKMiPHvOmd"
      },
      "source": [
        "[Video Solution](https://youtu.be/gqOUYiGm_EM)\n",
        "\n",
        "```\n",
        "list3=[1, 2, 3, 4, 5, 6, 7, 8, 9]\n",
        "```\n",
        "라고 정하고 리스트 list3에 Loop을 활용해서 짝수만 남긴다."
      ]
    },
    {
      "cell_type": "markdown",
      "metadata": {
        "id": "FsmhsQXQvOmd"
      },
      "source": [
        "# <font color='red'><**Answer 3**></font>"
      ]
    },
    {
      "cell_type": "code",
      "metadata": {
        "id": "JnPZYIzFvOme",
        "outputId": "f960c67a-c7cb-40e5-87f9-268fc1ad809f"
      },
      "source": [
        "list3=[1, 2, 3, 4, 5, 6, 7, 8, 9]\n",
        "for i in list3:\n",
        "    if i%2 != 0:\n",
        "        list3.remove(i)\n",
        "print(list3)"
      ],
      "execution_count": null,
      "outputs": [
        {
          "name": "stdout",
          "output_type": "stream",
          "text": [
            "[2, 4, 6, 8]\n"
          ]
        }
      ]
    },
    {
      "cell_type": "markdown",
      "metadata": {
        "id": "9tCG1vrdvOme"
      },
      "source": [
        "<font color='red'>for문으로 리스트의 원소들을 하나씩 택하여, 2로 나눈 나머지가 0이 아닐 시 (홀수) 해당 원소를 remove 함수로 제거했다.\n",
        "</font>"
      ]
    },
    {
      "cell_type": "markdown",
      "metadata": {
        "id": "DIS7j4FKvOmf"
      },
      "source": [
        "---"
      ]
    },
    {
      "cell_type": "markdown",
      "metadata": {
        "id": "znn0hNwHvOmf"
      },
      "source": [
        "## 4> Write a Python code that prints out the first n rows of Pascal's triangle."
      ]
    },
    {
      "cell_type": "markdown",
      "metadata": {
        "id": "NGq84WUvvOmg"
      },
      "source": [
        "<font color='green'> For example, for n=3, your output should be<br/>\n",
        "[1]<br/>\n",
        "[1, 1]<br/>\n",
        "[1, 2, 1]<br/>\n",
        "</font>"
      ]
    },
    {
      "cell_type": "markdown",
      "metadata": {
        "id": "P5KAmWOqvOmg"
      },
      "source": [
        "[Video Solution](https://youtu.be/gqOUYiGm_EM)\n",
        "\n",
        "```\n",
        "list4=[1]\n",
        "```\n",
        "으로 첫 행을 만들어 놓은 후, 해당 행의 왼쪽에 0을 추가한 리스트와 오른쪽에 0을 추가한 리스트를 만들어 다음행에 두 리스트의 원소 간 합을 출력하는 반복작업을 수행하는 Loop를 만들면 파스칼의 삼각형의 원리를 따르는 코드가 된다. 반복작업이 모두 기록되어야 삼각형을 이루므로 print()의 들여쓰기 위치가 중요하다."
      ]
    },
    {
      "cell_type": "markdown",
      "metadata": {
        "id": "uJKlfWJOvOmg"
      },
      "source": [
        "# <font color='red'><**Answer 4**></font>"
      ]
    },
    {
      "cell_type": "code",
      "metadata": {
        "scrolled": true,
        "id": "VHa_TUFGvOmh",
        "outputId": "139d2012-ab2e-4711-c2d3-99393b265e37"
      },
      "source": [
        "n=8                  #7\n",
        "list4=[1]\n",
        "print(list4)\n",
        "for i in range(n-1): #1\n",
        "    left=[0]+list4   #2\n",
        "    right=list4+[0]  #2\n",
        "    list4=[]         #3\n",
        "    for j in range(len(left)):         #4\n",
        "        list4.append(left[j]+right[j]) #5\n",
        "    print(list4)     #6"
      ],
      "execution_count": null,
      "outputs": [
        {
          "name": "stdout",
          "output_type": "stream",
          "text": [
            "[1]\n",
            "[1, 1]\n",
            "[1, 2, 1]\n",
            "[1, 3, 3, 1]\n",
            "[1, 4, 6, 4, 1]\n",
            "[1, 5, 10, 10, 5, 1]\n",
            "[1, 6, 15, 20, 15, 6, 1]\n",
            "[1, 7, 21, 35, 35, 21, 7, 1]\n"
          ]
        }
      ]
    },
    {
      "cell_type": "markdown",
      "metadata": {
        "id": "tOC8b36-vOmi"
      },
      "source": [
        "<font color='red'>1. 첫 행을 출력한 것을 고려하여 n-1번 더 반복하도록 for문을 두었고 반복작업을 위한 문장이므로 i의 의미는 없다. </font>\n",
        "\n",
        "<font color='red'>2. 그리고 다음 행을 생성하기 위한 두 리스트를 만들었다. 리스트의 덧셈이 연산이 아닌 원소 연결의 기능을 하는 것을 활용하여 왼쪽과 오른쪽에 각각 0을 추가한 left, right 리스트를 만들었다.\n",
        "\n",
        "<font color='red'>3. 두 리스트 역시 그대로 더하면 앞뒤로 연결되기 때문에 같은 위치의 원소끼리 더하기 위하여, 새로 채울 다음 행을 비워준 후\n",
        "\n",
        "<font color='red'>4. 하부에 새로운 for문을 만들어 리스트 길이에 맞게 인덱스용 range를 만들어 주었다.\n",
        "\n",
        "<font color='red'>5. 비워주었던 행 내에 구했던 두 리스트의 j번째 인덱스의 원소끼리 더한 값을 append로 추가해주었다(비웠던 행도 리스트 형식이므로).\n",
        "\n",
        "<font color='red'>6. print의 위치가 첫 for문 내부에 있으므로 (n-1)번의 결과값을 모두 출력하게 되고, 미리 출력했던 첫 행과 더해져 n행의 파스칼의 삼각형 모양을 나타낸다.\n",
        "\n",
        "<font color='red'>7. 문제에 예시로 나온 삼각형과 같도록 n=8로 설정해주었다.  </font>"
      ]
    },
    {
      "cell_type": "markdown",
      "metadata": {
        "id": "jKI7byYxvOmj"
      },
      "source": [
        "---"
      ]
    },
    {
      "cell_type": "markdown",
      "metadata": {
        "id": "QILErcKOvOmm"
      },
      "source": [
        "## 5> Write a Python program to find a pair with highest product from a given array of integers."
      ]
    },
    {
      "cell_type": "markdown",
      "metadata": {
        "id": "u9LE40HnvOmn"
      },
      "source": [
        "<font color='green'> Original array: [1, 2, 3, 4, 7, 0, 8, 4]\n",
        "\n",
        "<font color='green'> Maximum product pair is: (7, 8) \n",
        "\n",
        "<font color='green'>Original array: [0, -1, -2, -4, 5, 0, -6] \n",
        "\n",
        "<font color='green'>Maximum product pair is: (-4, -6)]\n"
      ]
    },
    {
      "cell_type": "markdown",
      "metadata": {
        "id": "D6oqudJNvOmq"
      },
      "source": [
        "[Video Solution](https://youtu.be/gqOUYiGm_EM)\n",
        "\n",
        "```\n",
        "array1=[1, 2, 3, 4, 7, 0, 8, 4]\n",
        "array2=[0, -1, -2, -4, 5, 0, -6] \n",
        "```\n",
        "으로 두 배열을 지정하고 각 배열에서 원소 쌍의 곱이 가장 큰 값을 찾기 위해 모든 경우의 수를 검토하도록 반복작업을 수행하는 함수를 만든다."
      ]
    },
    {
      "cell_type": "markdown",
      "metadata": {
        "id": "e_4VKeoGvOmr"
      },
      "source": [
        "# <font color='red'><**Answer 5**></font>"
      ]
    },
    {
      "cell_type": "code",
      "metadata": {
        "id": "d7bOx3ScvOms"
      },
      "source": [
        "array1= [1, 2, 3, 4, 7, 0, 8, 4]\n",
        "array2=[0, -1, -2, -4, 5, 0, -6] \n",
        "\n",
        "def find_maximum_product(arr):                #1\n",
        "    current_max = 1*2                         #2\n",
        "    n=len(arr)                                #3\n",
        "    for i in range(n):                        #4\n",
        "        for j in range(i+1, n):               #5\n",
        "            if current_max < arr[i]* arr[j]:  #6\n",
        "                current_max = arr[i]*arr[j]   #7\n",
        "                val1 = arr[i]                 #8\n",
        "                val2 = arr[j]\n",
        "    print(f\"Max Product Pair is ({val1}, {val2})\")  #9\n",
        "    print(\"Product value is\", current_max)          #9"
      ],
      "execution_count": null,
      "outputs": []
    },
    {
      "cell_type": "markdown",
      "metadata": {
        "id": "sHoTBPNnvOms"
      },
      "source": [
        "<font color='red'> 1. 곱값이 가장 큰 원소 쌍을 찾는 함수 find_maximum_product()함수를 정의했다. \n",
        "\n",
        "<font color='red'> 2. 모든 곱값의 경우를 비교할 것이므로, 비교될 곱값 current_max의 초기값은 중요하지 않아 랜덤한 두 원소의 곱으로 설정해주었다. \n",
        "    \n",
        "<font color='red'> 3. 함수에 입력할 배열의 길이를 n으로 지정한 후 \n",
        "    \n",
        "<font color='red'> 4. 모든 원소를 한번씩 택하여 사용할 예정이므로 n만큼 반복작업을 하도록 for문을 만들어주었다. \n",
        "    \n",
        "<font color='red'> 5. 앞선 for문을 통해 택한 인덱스 i번째 원소를 기준으로 그 다음 원소부터 마지막 원소까지 차례로 곱해볼 수 있도록 for문에 나머지 원소들을 위한 range를 넣는다.\n",
        "    \n",
        "<font color='red'> 6. if 조건문을 통해, 비교될 곱값(이전 시행들 중 가장 큰 곱으로 업데이트 되어있는 값) current_max보다 새로 구한 곱값(arr[i]* arr[j])이 더 큰 경우,\n",
        "    \n",
        "<font color='red'> 7. current_max를 새로 구한 곱값으로 업데이트 해주었고 \n",
        "    \n",
        "<font color='red'> 8. 그 때의 두 원소를 각각 val1, val2에 저장해주었다. \n",
        "    \n",
        "<font color='red'> 9. print가 첫 for문과 동일선상에 있으므로, 모든 원소를 한번씩 택해 더 큰 곱값을 꾸준히 갱신하여 더 이상 업데이트가 일어나지 않을 때의 두 원소와 해당 곱값을 출력한다. \n",
        "</font>"
      ]
    },
    {
      "cell_type": "code",
      "metadata": {
        "id": "zf7Ncpq-vOms",
        "outputId": "0587d936-a848-438c-8eb2-0cc55cf8b5dc"
      },
      "source": [
        "find_maximum_product(array1)\n",
        "find_maximum_product(array2)"
      ],
      "execution_count": null,
      "outputs": [
        {
          "name": "stdout",
          "output_type": "stream",
          "text": [
            "Max Product Pair is (7, 8)\n",
            "Product value is 56\n",
            "Max Product Pair is (-4, -6)\n",
            "Product value is 24\n"
          ]
        }
      ]
    },
    {
      "cell_type": "markdown",
      "metadata": {
        "id": "k7EJJLN1vOmt"
      },
      "source": [
        "<font color='red'> 두 배열을 대입한 결과 둘다 기대했던 원소 쌍과 그때의 곱값임을 확인했다. \n",
        "\n",
        "<font color='red'> (7 * 8=56, -4 * -6=24)</font>"
      ]
    },
    {
      "cell_type": "markdown",
      "metadata": {
        "id": "rSkj6lGQvOmt"
      },
      "source": [
        "---"
      ]
    },
    {
      "cell_type": "markdown",
      "metadata": {
        "id": "HN3zbAr0vOmt"
      },
      "source": [
        "## 6> You are given the following list. Write Python code to find the maximum value and the index of the maximum value in “my_num“. In this case, the maximum value is ”10“ and the index of the maximum value is ”2”. (Assume that there are no ties.)\n"
      ]
    },
    {
      "cell_type": "markdown",
      "metadata": {
        "id": "4IS0QC5HvOmv"
      },
      "source": [
        "<font color='green'>my_num = [3,5,10,7,2,4]\n",
        "</font>"
      ]
    },
    {
      "cell_type": "markdown",
      "metadata": {
        "id": "CFTJZRxKvOmv"
      },
      "source": [
        "[Video Solution](https://youtu.be/gqOUYiGm_EM)\n",
        "\n",
        "```\n",
        "my_num = [3,5,10,7,2,4]\n",
        "\n",
        "```\n",
        "을 지정하고, def 내의 for문을 통해 대입될 리스트의 원소들을 비교하여 최대값을 내보내는 함수를 만들어 사용한다."
      ]
    },
    {
      "cell_type": "markdown",
      "metadata": {
        "id": "0eTcOZD1vOmv"
      },
      "source": [
        "# <font color='red'><**Answer 6**></font>"
      ]
    },
    {
      "cell_type": "code",
      "metadata": {
        "id": "dYzpGD-OvOmv",
        "outputId": "c0954751-cfbe-4d93-8421-324e53b27d2b"
      },
      "source": [
        "my_num = [3,5,10,7,2,4]\n",
        "def findmax(nums):           #1\n",
        "  n = len(nums)              #2\n",
        "  max = 0                    #3\n",
        "  for i in range(1,n):       #4\n",
        "    if nums[max] < nums[i]:  #5\n",
        "      max=i                  #6\n",
        "  return nums[max],max       #7\n",
        "\n",
        "findmax(my_num)   #8"
      ],
      "execution_count": null,
      "outputs": [
        {
          "data": {
            "text/plain": [
              "(10, 2)"
            ]
          },
          "execution_count": 136,
          "metadata": {},
          "output_type": "execute_result"
        }
      ]
    },
    {
      "cell_type": "markdown",
      "metadata": {
        "id": "vOzJTv3FvOmw"
      },
      "source": [
        "<font color='red'>1. 임의의 변수 nums를 갖는 findmax()라는 함수를 정의했다. \n",
        "    \n",
        "<font color='red'>2. 리스트인 변수의 길이를 n으로 지정하고 \n",
        "    \n",
        "<font color='red'>3. 이후에 나올 모든 원소를 비교하면서 인덱스를 갱신할 예정이므로 최대값의 인덱스 max를 일단 첫 원소의 인덱스인 0으로 지정해주었다. \n",
        "    \n",
        "<font color='red'>4. for문으로 첫 원소의 다음 인덱스인 1부터 마지막 원소의 인덱스까지 비교할수 있도록 range를 만들고 \n",
        "    \n",
        "<font color='red'>5. if 조건문으로 max 인덱스에 해당하는 원소와 순서대로 오는 다음 원소를 비교하여, 새로 온 원소가 더 크다면\n",
        "    \n",
        "<font color='red'>6. 최대값의 인덱스 max를 새로 온 해당 원소의 인덱스로 업데이트 하도록 했다. 이렇게 for문 내에서 최종적인 최대값의 인덱스가 max에 저장될 때까지 모든 원소에 대해 비교를 반복한다.\n",
        "    \n",
        "<font color='red'>7. 문제에서 최대값 자체와 해당 최대값의 인덱스를 찾으라 했으므로 두 값을 모두 return하도록 함수의 결과값을 정했다.\n",
        "    \n",
        "<font color='red'>8. 주어진 리스트 my_num을 대입해본 결과 기대했던 값이 출력되었다.\n",
        "</font>"
      ]
    },
    {
      "cell_type": "markdown",
      "metadata": {
        "id": "nQ09DPqCvOmw"
      },
      "source": [
        "---"
      ]
    },
    {
      "cell_type": "markdown",
      "metadata": {
        "id": "obk3DzmKvOmw"
      },
      "source": [
        "## 7> Given a list of integers with duplicate elements in it, write a Python code to generate another list, which contains only the duplicate elements. In simple words, the new list should contain the elements which appear more than one."
      ]
    },
    {
      "cell_type": "markdown",
      "metadata": {
        "id": "iYEoIwsjvOmw"
      },
      "source": [
        "<font color='green'>\n",
        "Hint: Consider that you are given a list of A=[Tom, Jerry, Mike, Tom, Mike].\n",
        "    \n",
        "1. Compare Tom with all other elements in A[1:]. --> add Tom to the list.\n",
        "    \n",
        "2. Compare Jerry with all other elements in A[2:]. --> do not add Jerry to the list.\n",
        "    \n",
        "3. Compare Mike with all other elements in A[3:]. --> add Mike to the list.\n",
        "    \n",
        "4. Do the same thing for Tom.\n",
        "\n",
        "</font>\n"
      ]
    },
    {
      "cell_type": "markdown",
      "metadata": {
        "id": "VFvQYMoGvOmx"
      },
      "source": [
        "[Video Solution](https://youtu.be/gqOUYiGm_EM)\n",
        "\n",
        "```\n",
        "A=[Tom, Jerry, Mike, Tom, Mike]\n",
        "```\n",
        "라고 지정한 후, 각 원소가 차례로 그 이후의 나머지 원소들에도 포함된 중복값인지 판단하여 빈 세트에 넣어주는 함수를 만들어 사용한다. "
      ]
    },
    {
      "cell_type": "markdown",
      "metadata": {
        "id": "j0A789gGvOmx"
      },
      "source": [
        "# <font color='red'><**Answer 7**></font>"
      ]
    },
    {
      "cell_type": "code",
      "metadata": {
        "id": "iO-dlG7evOmx",
        "outputId": "f203db1d-ca99-44e6-e529-42765cef65d8"
      },
      "source": [
        "A=['Tom', 'Jerry', 'Mike', 'Tom', 'Mike']\n",
        "\n",
        "def Repeat(x):                      #1\n",
        "    n = len(x)                      #2\n",
        "    repeated = set()                #3\n",
        "    for i in range(n-1):            #4\n",
        "        for j in range(i+1, n):     #5\n",
        "            if x[i] == x[j]:        #6\n",
        "                repeated.add(x[i])  #7\n",
        "    return repeated                 #8\n",
        "\n",
        "print (list(Repeat(A)))   #9"
      ],
      "execution_count": null,
      "outputs": [
        {
          "name": "stdout",
          "output_type": "stream",
          "text": [
            "['Tom', 'Mike']\n"
          ]
        }
      ]
    },
    {
      "cell_type": "markdown",
      "metadata": {
        "id": "YutuYQBrvOmx"
      },
      "source": [
        "<font color='red'>1. 중복값을 찾아낼 함수 Repeat()을 정의할 것이다. \n",
        "\n",
        "<font color='red'>2. 대입할 리스트의 길이를 n으로 지정하고 \n",
        "    \n",
        "<font color='red'>3. 중복값을 저장해줄 빈 세트 repeated를 만들어주었다. \n",
        "    \n",
        "<font color='red'>4. for문을 통해 첫 원소부터 마지막에서 두번째 원소까지 확인하기 위해 range(n-1)을 만들어주고 \n",
        "    \n",
        "<font color='red'>5. 또 하나의 for문을 통해 앞서 고른 i번째 원소의 다음 원소부터 마지막 원소까지 차례로 i번째 원소와 비교할 수 있도록 range(i+1,n)을 만들었다. \n",
        "    \n",
        "<font color='red'>6. if조건문으로 i번째 원소와 j번째 원소를 비교하여 값이 같은 중복값일 경우\n",
        "    \n",
        "<font color='red'>7. .add()를 사용하여 빈 세트 repeated에 추가하도록 조건을 만들었다. \n",
        "    \n",
        "<font color='red'>8. 첫 for문과 같은 선상에 return을 두어 모든 중복값이 추가된 최종적인 세트를 내보내도록 정의했다.\n",
        "    \n",
        "<font color='red'>9. 리스트 형태로 출력하여 기대했던 결과가 잘 나왔음을 확인했다.\n",
        "</font>"
      ]
    },
    {
      "cell_type": "code",
      "metadata": {
        "id": "Ddo3w-cNvOmx",
        "outputId": "c1697d92-d11c-4857-baf6-12fe03752971"
      },
      "source": [
        "A=['Tom', 'Jerry', 'Mike', 'Tom', 'Mike']\n",
        "S = set()\n",
        "for i in range(len(A)-1):\n",
        "    for j in range(i+1, len(A)):\n",
        "        if A[i] == A[j]:\n",
        "            S.add(A[i])\n",
        "list(S)"
      ],
      "execution_count": null,
      "outputs": [
        {
          "data": {
            "text/plain": [
              "['Tom', 'Mike']"
            ]
          },
          "execution_count": 138,
          "metadata": {},
          "output_type": "execute_result"
        }
      ]
    },
    {
      "cell_type": "markdown",
      "metadata": {
        "id": "GMPIlNaEvOmy"
      },
      "source": [
        "<font color='red'>* 교수님의 설명을 참고하여 함수를 정의하지 않고 바로 리스트A에 for문을 적용한 방법도 시도해보았다.\n",
        "</font>"
      ]
    },
    {
      "cell_type": "code",
      "metadata": {
        "id": "-eiJzgM9vOmy"
      },
      "source": [
        ""
      ],
      "execution_count": null,
      "outputs": []
    },
    {
      "cell_type": "code",
      "metadata": {
        "id": "8s0RaJUDvOmy"
      },
      "source": [
        ""
      ],
      "execution_count": null,
      "outputs": []
    },
    {
      "cell_type": "code",
      "metadata": {
        "id": "bjwIuu_XvOmy"
      },
      "source": [
        ""
      ],
      "execution_count": null,
      "outputs": []
    },
    {
      "cell_type": "code",
      "metadata": {
        "id": "8ATRw8CKvOmy"
      },
      "source": [
        ""
      ],
      "execution_count": null,
      "outputs": []
    },
    {
      "cell_type": "code",
      "metadata": {
        "id": "nRPsOWzevOmy"
      },
      "source": [
        ""
      ],
      "execution_count": null,
      "outputs": []
    },
    {
      "cell_type": "code",
      "metadata": {
        "id": "414VmU9UvOmy"
      },
      "source": [
        ""
      ],
      "execution_count": null,
      "outputs": []
    },
    {
      "cell_type": "code",
      "metadata": {
        "id": "Ad2pkneavOmy"
      },
      "source": [
        ""
      ],
      "execution_count": null,
      "outputs": []
    },
    {
      "cell_type": "code",
      "metadata": {
        "id": "veTSwJwyvOmy"
      },
      "source": [
        ""
      ],
      "execution_count": null,
      "outputs": []
    },
    {
      "cell_type": "code",
      "metadata": {
        "id": "dd-GlS4OvOmy"
      },
      "source": [
        ""
      ],
      "execution_count": null,
      "outputs": []
    },
    {
      "cell_type": "code",
      "metadata": {
        "id": "xL_0Z_8mvOmy"
      },
      "source": [
        ""
      ],
      "execution_count": null,
      "outputs": []
    }
  ]
}